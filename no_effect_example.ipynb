{
 "cells": [
  {
   "cell_type": "code",
   "execution_count": 39,
   "metadata": {},
   "outputs": [
    {
     "name": "stderr",
     "output_type": "stream",
     "text": [
      "100%|██████████| 500/500 [06:47<00:00,  1.23it/s]\n",
      "Degrees of freedom <= 0 for slice\n",
      "invalid value encountered in scalar divide\n"
     ]
    },
    {
     "ename": "TypeError",
     "evalue": "object of type 'int' has no len()",
     "output_type": "error",
     "traceback": [
      "\u001b[0;31m---------------------------------------------------------------------------\u001b[0m",
      "\u001b[0;31mTypeError\u001b[0m                                 Traceback (most recent call last)",
      "Cell \u001b[0;32mIn[39], line 91\u001b[0m\n\u001b[1;32m     88\u001b[0m std_error \u001b[38;5;241m=\u001b[39m stats\u001b[38;5;241m.\u001b[39msem(results)\n\u001b[1;32m     90\u001b[0m \u001b[38;5;66;03m# Calculate 95% confidence interval\u001b[39;00m\n\u001b[0;32m---> 91\u001b[0m ci \u001b[38;5;241m=\u001b[39m stats\u001b[38;5;241m.\u001b[39mt\u001b[38;5;241m.\u001b[39minterval(\u001b[38;5;241m0.95\u001b[39m, \u001b[38;5;28;43mlen\u001b[39;49m\u001b[43m(\u001b[49m\u001b[43mresults\u001b[49m\u001b[43m)\u001b[49m \u001b[38;5;241m-\u001b[39m \u001b[38;5;241m1\u001b[39m, loc\u001b[38;5;241m=\u001b[39mmean, scale\u001b[38;5;241m=\u001b[39mstd_error)\n\u001b[1;32m     92\u001b[0m \u001b[38;5;28mprint\u001b[39m(ci[\u001b[38;5;241m0\u001b[39m])\n\u001b[1;32m     93\u001b[0m \u001b[38;5;28mprint\u001b[39m(cases[i])\n",
      "\u001b[0;31mTypeError\u001b[0m: object of type 'int' has no len()"
     ]
    }
   ],
   "source": [
    "# Third-party imports\n",
    "import numpy as np\n",
    "import pandas as pd\n",
    "from tqdm import tqdm\n",
    "from econml.dr import LinearDRLearner\n",
    "def create_data():\n",
    "        units = []\n",
    "        for i in range(1000):\n",
    "            A0 = np.random.randint(0, 2) # 50% 0 50% 1\n",
    "            L1_chance = 0.2 if A0 else 0.6\n",
    "            \n",
    "            U = np.random.normal() \n",
    "            \n",
    "            L1_chance += U\n",
    "            L1 = 1 if np.random.random() < L1_chance else 0            \n",
    "            A1_chance = 0.9 if L1 else 0.3\n",
    "            A1 = 1 if np.random.random() < A1_chance else 0\n",
    "            \n",
    "            Y = 1 if np.random.random() < (0.5 * U**2) else 0 #1 if np.random.random() < U else 0\n",
    "            units.append([A0, L1, A1, Y])\n",
    "\n",
    "        columns = ['A0', 'L1', 'A1', 'Y']\n",
    "        df = pd.DataFrame(units, columns=columns)\n",
    "\n",
    "        df_new = df.copy()\n",
    "        condition = (df['A0'] == 1) & (df['A1'] == 1)\n",
    "        df_new['always_treated'] = np.where(condition, 1, np.where((df['A0'] == 0) & (df['A1'] == 0), 0, np.nan))\n",
    "        df_new = df_new.dropna()\n",
    "        return df_new\n",
    "\n",
    "errors = [[], [], [], []]\n",
    "for iteration in tqdm(range(500)):\n",
    "    # Print the current iteration number\n",
    "    df = create_data()\n",
    "\n",
    "    # Instantiate a LinearDRLearner object. \n",
    "    est = LinearDRLearner()\n",
    "\n",
    "    # Extract and reshape the necessary columns from the DataFrame for modeling.\n",
    "    Y = np.array(df['Y']).reshape(-1, 1)\n",
    "    T = np.array(df['always_treated']).reshape(-1, 1)\n",
    "    X = np.array(df['L1']).reshape(-1, 1)\n",
    "\n",
    "    # Fit the model with the prepared data.\n",
    "    est.fit(Y.ravel(), T, X=X, W=None)\n",
    "    est.effect(X, T0=0, T1=1)\n",
    "\n",
    "    # Group by the 'always_treated' column and calculate the mean of 'Y' for each group.\n",
    "    grouped = df.groupby('always_treated')['Y'].mean()\n",
    "\n",
    "    # Calculate the difference in means between the two groups.\n",
    "    unadjusted_ate = grouped.diff().dropna().iloc[0]\n",
    "\n",
    "    # Group by both 'L1' and 'always_treated' columns, then calculate the mean of 'Y' for each group.\n",
    "    grouped = df.groupby(['L1', 'always_treated'])['Y'].mean().reset_index()\n",
    "\n",
    "    # Initialize a list to store adjusted ATEs.\n",
    "    adjusted_ates = []\n",
    "\n",
    "    # Iterate over unique values of 'L1' and calculate the ATE within each stratum of 'L1'.\n",
    "    for l1_value in grouped['L1'].unique():\n",
    "        treated_mean = grouped.loc[(grouped['L1'] == l1_value) & (grouped['always_treated'] == 1), 'Y'].values[0]\n",
    "        control_mean = grouped.loc[(grouped['L1'] == l1_value) & (grouped['always_treated'] == 0), 'Y'].values[0]\n",
    "        ate = treated_mean - control_mean\n",
    "        adjusted_ates.append(ate)\n",
    "\n",
    "    # Get the Average Treatment Effect estimated by the Double Robust method.\n",
    "    double_robust_error = est.ate(X=X)\n",
    "\n",
    "    # Prepare a list of errors for this iteration.\n",
    "    iteration_errors = [double_robust_error, unadjusted_ate, adjusted_ates[0], adjusted_ates[1]]\n",
    "\n",
    "    # Append the calculated errors for each method to the respective lists\n",
    "    for j in range(4):\n",
    "        errors[j].append(iteration_errors[j])\n",
    "errors = np.array(errors)\n",
    "import numpy as np\n",
    "from scipy import stats\n",
    "\n",
    "cases = [\"double_robust_error\", \"unadjusted_ate\", \"adjusted_ates_L_is_0\", \"adjusted_ates_L_is_1\"]\n",
    "\n",
    "for i, results in enumerate(errors):\n",
    "    # Calculate mean and standard deviation\n",
    "    mean = np.mean(results)\n",
    "    std_dev = np.std(results)\n",
    "\n",
    "    # Calculate standard error\n",
    "    std_error = stats.sem(results)\n",
    "\n",
    "    # Calculate 95% confidence interval\n",
    "    ci = stats.t.interval(0.95, len(results) - 1, loc=mean, scale=std_error)\n",
    "    print(ci[0])\n",
    "    print(cases[i])\n",
    "    print(f\"Mean: {mean:.3} \")\n",
    "    print(f\"95% Confidence Interval ({ci[0]:.3f}, {ci[1]:.3f})\")\n"
   ]
  },
  {
   "cell_type": "code",
   "execution_count": 42,
   "metadata": {},
   "outputs": [
    {
     "name": "stdout",
     "output_type": "stream",
     "text": [
      "-0.00042874812346096157\n",
      "double_robust_error\n",
      "Mean: 0.00427 \n",
      "95% Confidence Interval (-0.000, 0.009)\n",
      "0.020498675113559434\n",
      "unadjusted_ate\n",
      "Mean: 0.0246 \n",
      "95% Confidence Interval (0.020, 0.029)\n",
      "-0.08945439186424788\n",
      "adjusted_ates_L_is_0\n",
      "Mean: -0.0838 \n",
      "95% Confidence Interval (-0.089, -0.078)\n",
      "0.11476890273913297\n",
      "adjusted_ates_L_is_1\n",
      "Mean: 0.123 \n",
      "95% Confidence Interval (0.115, 0.132)\n"
     ]
    }
   ],
   "source": [
    "for i, results in enumerate(errors):\n",
    "    # Calculate mean and standard deviation\n",
    "    mean = np.mean(results)\n",
    "    std_dev = np.std(results)\n",
    "\n",
    "    # Calculate standard error\n",
    "    std_error = stats.sem(results)\n",
    "\n",
    "    # Calculate 95% confidence interval\n",
    "    ci = stats.t.interval(0.95, len(results) - 1, loc=mean, scale=std_error)\n",
    "    print(ci[0])\n",
    "    print(cases[i])\n",
    "    print(f\"Mean: {mean:.3} \")\n",
    "    print(f\"95% Confidence Interval ({ci[0]:.3f}, {ci[1]:.3f})\")"
   ]
  },
  {
   "cell_type": "code",
   "execution_count": 51,
   "metadata": {},
   "outputs": [
    {
     "data": {
      "text/plain": [
       "[[LogisticRegression(C=0.3593813663804626, intercept_scaling=1.0),\n",
       "  LogisticRegression(C=0.3593813663804626, intercept_scaling=1.0)]]"
      ]
     },
     "execution_count": 51,
     "metadata": {},
     "output_type": "execute_result"
    }
   ],
   "source": [
    "est.models_propensity"
   ]
  },
  {
   "cell_type": "code",
   "execution_count": 52,
   "metadata": {},
   "outputs": [
    {
     "data": {
      "text/plain": [
       "[[<econml.sklearn_extensions.linear_model.WeightedLassoWrapper at 0x7f7f2ab79dd0>,\n",
       "  <econml.sklearn_extensions.linear_model.WeightedLassoWrapper at 0x7f7f2aad6590>]]"
      ]
     },
     "execution_count": 52,
     "metadata": {},
     "output_type": "execute_result"
    }
   ],
   "source": [
    "est.models_regression"
   ]
  },
  {
   "cell_type": "code",
   "execution_count": 57,
   "metadata": {},
   "outputs": [
    {
     "data": {
      "text/html": [
       "<style>#sk-container-id-1 {color: black;}#sk-container-id-1 pre{padding: 0;}#sk-container-id-1 div.sk-toggleable {background-color: white;}#sk-container-id-1 label.sk-toggleable__label {cursor: pointer;display: block;width: 100%;margin-bottom: 0;padding: 0.3em;box-sizing: border-box;text-align: center;}#sk-container-id-1 label.sk-toggleable__label-arrow:before {content: \"▸\";float: left;margin-right: 0.25em;color: #696969;}#sk-container-id-1 label.sk-toggleable__label-arrow:hover:before {color: black;}#sk-container-id-1 div.sk-estimator:hover label.sk-toggleable__label-arrow:before {color: black;}#sk-container-id-1 div.sk-toggleable__content {max-height: 0;max-width: 0;overflow: hidden;text-align: left;background-color: #f0f8ff;}#sk-container-id-1 div.sk-toggleable__content pre {margin: 0.2em;color: black;border-radius: 0.25em;background-color: #f0f8ff;}#sk-container-id-1 input.sk-toggleable__control:checked~div.sk-toggleable__content {max-height: 200px;max-width: 100%;overflow: auto;}#sk-container-id-1 input.sk-toggleable__control:checked~label.sk-toggleable__label-arrow:before {content: \"▾\";}#sk-container-id-1 div.sk-estimator input.sk-toggleable__control:checked~label.sk-toggleable__label {background-color: #d4ebff;}#sk-container-id-1 div.sk-label input.sk-toggleable__control:checked~label.sk-toggleable__label {background-color: #d4ebff;}#sk-container-id-1 input.sk-hidden--visually {border: 0;clip: rect(1px 1px 1px 1px);clip: rect(1px, 1px, 1px, 1px);height: 1px;margin: -1px;overflow: hidden;padding: 0;position: absolute;width: 1px;}#sk-container-id-1 div.sk-estimator {font-family: monospace;background-color: #f0f8ff;border: 1px dotted black;border-radius: 0.25em;box-sizing: border-box;margin-bottom: 0.5em;}#sk-container-id-1 div.sk-estimator:hover {background-color: #d4ebff;}#sk-container-id-1 div.sk-parallel-item::after {content: \"\";width: 100%;border-bottom: 1px solid gray;flex-grow: 1;}#sk-container-id-1 div.sk-label:hover label.sk-toggleable__label {background-color: #d4ebff;}#sk-container-id-1 div.sk-serial::before {content: \"\";position: absolute;border-left: 1px solid gray;box-sizing: border-box;top: 0;bottom: 0;left: 50%;z-index: 0;}#sk-container-id-1 div.sk-serial {display: flex;flex-direction: column;align-items: center;background-color: white;padding-right: 0.2em;padding-left: 0.2em;position: relative;}#sk-container-id-1 div.sk-item {position: relative;z-index: 1;}#sk-container-id-1 div.sk-parallel {display: flex;align-items: stretch;justify-content: center;background-color: white;position: relative;}#sk-container-id-1 div.sk-item::before, #sk-container-id-1 div.sk-parallel-item::before {content: \"\";position: absolute;border-left: 1px solid gray;box-sizing: border-box;top: 0;bottom: 0;left: 50%;z-index: -1;}#sk-container-id-1 div.sk-parallel-item {display: flex;flex-direction: column;z-index: 1;position: relative;background-color: white;}#sk-container-id-1 div.sk-parallel-item:first-child::after {align-self: flex-end;width: 50%;}#sk-container-id-1 div.sk-parallel-item:last-child::after {align-self: flex-start;width: 50%;}#sk-container-id-1 div.sk-parallel-item:only-child::after {width: 0;}#sk-container-id-1 div.sk-dashed-wrapped {border: 1px dashed gray;margin: 0 0.4em 0.5em 0.4em;box-sizing: border-box;padding-bottom: 0.4em;background-color: white;}#sk-container-id-1 div.sk-label label {font-family: monospace;font-weight: bold;display: inline-block;line-height: 1.2em;}#sk-container-id-1 div.sk-label-container {text-align: center;}#sk-container-id-1 div.sk-container {/* jupyter's `normalize.less` sets `[hidden] { display: none; }` but bootstrap.min.css set `[hidden] { display: none !important; }` so we also need the `!important` here to be able to override the default hidden behavior on the sphinx rendered scikit-learn.org. See: https://github.com/scikit-learn/scikit-learn/issues/21755 */display: inline-block !important;position: relative;}#sk-container-id-1 div.sk-text-repr-fallback {display: none;}</style><div id=\"sk-container-id-1\" class=\"sk-top-container\"><div class=\"sk-text-repr-fallback\"><pre>StatsModelsLinearRegression(cov_type=&#x27;HC1&#x27;)</pre><b>In a Jupyter environment, please rerun this cell to show the HTML representation or trust the notebook. <br />On GitHub, the HTML representation is unable to render, please try loading this page with nbviewer.org.</b></div><div class=\"sk-container\" hidden><div class=\"sk-item\"><div class=\"sk-estimator sk-toggleable\"><input class=\"sk-toggleable__control sk-hidden--visually\" id=\"sk-estimator-id-1\" type=\"checkbox\" checked><label for=\"sk-estimator-id-1\" class=\"sk-toggleable__label sk-toggleable__label-arrow\">StatsModelsLinearRegression</label><div class=\"sk-toggleable__content\"><pre>StatsModelsLinearRegression(cov_type=&#x27;HC1&#x27;)</pre></div></div></div></div></div>"
      ],
      "text/plain": [
       "StatsModelsLinearRegression(cov_type='HC1')"
      ]
     },
     "execution_count": 57,
     "metadata": {},
     "output_type": "execute_result"
    }
   ],
   "source": [
    "est.model_cate()"
   ]
  }
 ],
 "metadata": {
  "kernelspec": {
   "display_name": "Python 3",
   "language": "python",
   "name": "python3"
  },
  "language_info": {
   "codemirror_mode": {
    "name": "ipython",
    "version": 3
   },
   "file_extension": ".py",
   "mimetype": "text/x-python",
   "name": "python",
   "nbconvert_exporter": "python",
   "pygments_lexer": "ipython3",
   "version": "3.11.7"
  },
  "orig_nbformat": 4
 },
 "nbformat": 4,
 "nbformat_minor": 2
}
